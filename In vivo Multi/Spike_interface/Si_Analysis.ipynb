{
 "cells": [
  {
   "cell_type": "code",
   "execution_count": 10,
   "id": "b9bac66c",
   "metadata": {},
   "outputs": [],
   "source": [
    "import spikeinterface as si\n",
    "import spikeinterface.extractors as se \n",
    "import spikeinterface.preprocessing as spre\n",
    "import spikeinterface.sorters as ss\n",
    "import spikeinterface.postprocessing as spost\n",
    "import spikeinterface.qualitymetrics as sqm\n",
    "import spikeinterface.comparison as sc\n",
    "import spikeinterface.exporters as sexp\n",
    "import spikeinterface.widgets as sw\n",
    "\n",
    "import os\n",
    "\n",
    "import probeinterface as pi\n",
    "from probeinterface.plotting import plot_probe\n",
    "\n",
    "import matplotlib.pyplot as plt\n",
    "import numpy as np\n",
    "from pathlib import Path\n",
    "\n",
    "import spikeinterface_gui as sigui\n",
    "\n",
    "import warnings\n",
    "warnings.simplefilter(\"ignore\")\n",
    "\n",
    "%matplotlib widget"
   ]
  },
  {
   "cell_type": "code",
   "execution_count": 11,
   "id": "2ab597d0",
   "metadata": {},
   "outputs": [],
   "source": [
    "# Working folder path\n",
    "working_dir=r'\\\\equipe2-nas1\\Gilles.DELBECQ\\Data\\ePhy\\Cohorte 1\\Si_analysis/'"
   ]
  },
  {
   "cell_type": "code",
   "execution_count": 12,
   "id": "bea48869",
   "metadata": {},
   "outputs": [
    {
     "name": "stdout",
     "output_type": "stream",
     "text": [
      "Loaded channels ids: [ 8 10 11 13 14 15]\n",
      "Channel groups after loading: [1 1 1 1 1 1]\n"
     ]
    }
   ],
   "source": [
    "recording_loaded = si.load_extractor(rf\"{working_dir}\\04_5to7\")\n",
    "\n",
    "print(f'Loaded channels ids: {recording_loaded.get_channel_ids()}')\n",
    "print(f'Channel groups after loading: {recording_loaded.get_channel_groups()}')"
   ]
  },
  {
   "cell_type": "code",
   "execution_count": 13,
   "id": "4703b2c7",
   "metadata": {},
   "outputs": [
    {
     "data": {
      "text/plain": [
       "BinaryFolderRecording: 6 channels - 1 segments - 20.0kHz - 982.474s"
      ]
     },
     "execution_count": 13,
     "metadata": {},
     "output_type": "execute_result"
    }
   ],
   "source": [
    "recording_loaded"
   ]
  },
  {
   "cell_type": "code",
   "execution_count": 14,
   "id": "b6e321bf",
   "metadata": {},
   "outputs": [
    {
     "name": "stdout",
     "output_type": "stream",
     "text": [
      "RUNNING SHELL SCRIPT: C:\\Users\\GILLES~1.DEL\\AppData\\Local\\Temp\\tmp_shellscriptrxm8kmt5\\script.bat\n",
      "RUNNING SHELL SCRIPT: C:\\Users\\GILLES~1.DEL\\AppData\\Local\\Temp\\tmp_shellscript7j5u7_jx\\script.bat\n",
      "RUNNING SHELL SCRIPT: C:\\Users\\GILLES~1.DEL\\AppData\\Local\\Temp\\tmp_shellscriptutqfefmz\\script.bat\n",
      "RUNNING SHELL SCRIPT: C:\\Users\\GILLES~1.DEL\\AppData\\Local\\Temp\\tmp_shellscript4qp1nd1b\\script.bat\n",
      "RUNNING SHELL SCRIPT: C:\\Users\\GILLES~1.DEL\\AppData\\Local\\Temp\\tmp_shellscript7np3fjbz\\script.bat\n",
      "RUNNING SHELL SCRIPT: C:\\Users\\GILLES~1.DEL\\AppData\\Local\\Temp\\tmp_shellscriptneaj0n3r\\script.bat\n",
      "RUNNING SHELL SCRIPT: C:\\Users\\GILLES~1.DEL\\AppData\\Local\\Temp\\tmp_shellscript2suk3d1g\\script.bat\n",
      "RUNNING SHELL SCRIPT: C:\\Users\\GILLES~1.DEL\\AppData\\Local\\Temp\\tmp_shellscripts1rgp4xe\\script.bat\n"
     ]
    },
    {
     "data": {
      "text/plain": [
       "['spykingcircus2', 'tridesclous', 'tridesclous2']"
      ]
     },
     "execution_count": 14,
     "metadata": {},
     "output_type": "execute_result"
    }
   ],
   "source": [
    "ss.installed_sorters()"
   ]
  },
  {
   "cell_type": "code",
   "execution_count": 15,
   "id": "c404ae46",
   "metadata": {},
   "outputs": [
    {
     "name": "stdout",
     "output_type": "stream",
     "text": [
      "DataIO <id: 2424721580816> \n",
      "  workdir: \\\\equipe2-nas1\\Gilles.DELBECQ\\Data\\ePhy\\Cohorte 1\\Si_analysis\\Sorted\\04_5to7\\group0\\tridesclous\n",
      "  sample_rate: 20000.0\n",
      "  total_channel: 6\n",
      "  channel_groups: 0 [ch0 ch1 ch2 ch3 ch4 ch5]\n",
      "  nb_segment: 1\n",
      "  length: 19649480\n",
      "  durations: 982.5 s.\n",
      "catalogue_nested_params\n",
      "{'chunksize': 20000,\n",
      " 'clean_cluster': {'apply_auto_merge_cluster': True,\n",
      "                   'apply_auto_split': True,\n",
      "                   'apply_trash_low_extremum': True,\n",
      "                   'apply_trash_not_aligned': True,\n",
      "                   'apply_trash_small_cluster': True},\n",
      " 'clean_peaks': {'alien_value_threshold': -1.0, 'mode': 'extremum_amplitude'},\n",
      " 'cluster_kargs': {'adjacency_radius_um': 50.0,\n",
      "                   'high_adjacency_radius_um': 30.0,\n",
      "                   'max_loop': 1000,\n",
      "                   'min_cluster_size': 20},\n",
      " 'cluster_method': 'pruningshears',\n",
      " 'duration': 982.474,\n",
      " 'extract_waveforms': {'wf_left_long_ms': -2.5,\n",
      "                       'wf_left_ms': -1.0,\n",
      "                       'wf_right_long_ms': 3.5,\n",
      "                       'wf_right_ms': 1.5},\n",
      " 'feature_kargs': {'adjacency_radius_um': 50.0, 'n_components_by_channel': 3},\n",
      " 'feature_method': 'pca_by_channel',\n",
      " 'make_catalogue': {'inter_sample_oversampling': False,\n",
      "                    'sparse_thresh_level2': 3,\n",
      "                    'subsample_ratio': 'auto'},\n",
      " 'memory_mode': 'memmap',\n",
      " 'mode': 'sparse',\n",
      " 'n_jobs': -1,\n",
      " 'n_spike_for_centroid': 350,\n",
      " 'noise_snippet': {'nb_snippet': 300},\n",
      " 'peak_detector': {'adjacency_radius_um': 200.0,\n",
      "                   'engine': 'numba',\n",
      "                   'method': 'geometrical',\n",
      "                   'peak_sign': '-',\n",
      "                   'peak_span_ms': 0.7,\n",
      "                   'relative_threshold': 5,\n",
      "                   'smooth_radius_um': None},\n",
      " 'peak_sampler': {'mode': 'rand_by_channel',\n",
      "                  'nb_max': 20000,\n",
      "                  'nb_max_by_channel': 1000},\n",
      " 'preprocessor': {'common_ref_removal': False,\n",
      "                  'engine': 'numpy',\n",
      "                  'highpass_freq': 400.0,\n",
      "                  'lowpass_freq': 5000.0,\n",
      "                  'pad_width': -1,\n",
      "                  'smooth_size': 0},\n",
      " 'sparse_threshold': 1.5}\n",
      "peeler_params\n",
      "{'chunksize': 20000, 'engine': 'geometrical'}\n",
      "estimate_signals_noise 0.6013882999995985\n",
      "run_signalprocessor 26.911328800000774\n",
      "clean_peaks 0.16515129999970668\n",
      "sample_some_peaks 0.13687299999946845\n",
      "extract_some_noise 0.38567429999966407\n",
      "extract_some_features 0.5163989000011497\n",
      "find_clusters 0.4201153999983944\n",
      "cache_some_waveforms 0.5038998999989417\n",
      "compute_all_centroid 0.542234799999278\n",
      "auto_split_cluster 8.73126240000056\n",
      "trash_not_aligned 0.3916382999996131\n",
      "auto_merge_cluster 0.425014899999951\n",
      "trash_low_extremum 0.355931199999759\n",
      "trash_small_cluster 0.4219167999999627\n",
      "make_catalogue_for_peeler 0.7497406999991654\n",
      "CatalogueConstructor\n",
      "  chan_grp 0 - ch0 ch1 ch2 ch3 ch4 ch5\n",
      "  nb_peak_by_segment: 59981\n",
      "  some_features.shape: (6000, 18)\n",
      "  cluster_labels 1 [-11  -1   0]\n",
      "\n",
      "peeler.tun 27.1839473\n",
      "tridesclous run time 74.62s\n",
      "detect peaks with n_jobs = 4 and chunk_size = 20000\n"
     ]
    },
    {
     "data": {
      "application/vnd.jupyter.widget-view+json": {
       "model_id": "e2fafea9ad334c1eac5205b67a700cce",
       "version_major": 2,
       "version_minor": 0
      },
      "text/plain": [
       "detect peaks:   0%|          | 0/983 [00:00<?, ?it/s]"
      ]
     },
     "metadata": {},
     "output_type": "display_data"
    },
    {
     "name": "stdout",
     "output_type": "stream",
     "text": [
      "We found 62147 peaks in total\n",
      "We kept 30000 peaks for clustering\n",
      "features_from_peaks with n_jobs = 4 and chunk_size = 20000\n"
     ]
    },
    {
     "data": {
      "application/vnd.jupyter.widget-view+json": {
       "model_id": "32aacfb4338e40478aa82fd56c3ff469",
       "version_major": 2,
       "version_minor": 0
      },
      "text/plain": [
       "features_from_peaks:   0%|          | 0/983 [00:00<?, ?it/s]"
      ]
     },
     "metadata": {},
     "output_type": "display_data"
    },
    {
     "name": "stdout",
     "output_type": "stream",
     "text": [
      "We found 4 raw clusters, starting to clean with matching...\n",
      "extract waveforms memmap with n_jobs = 4 and chunk_size = 20000\n"
     ]
    },
    {
     "data": {
      "application/vnd.jupyter.widget-view+json": {
       "model_id": "7a3ea914d3b34a3084d467c44b02a4d5",
       "version_major": 2,
       "version_minor": 0
      },
      "text/plain": [
       "extract waveforms memmap:   0%|          | 0/983 [00:00<?, ?it/s]"
      ]
     },
     "metadata": {},
     "output_type": "display_data"
    },
    {
     "name": "stdout",
     "output_type": "stream",
     "text": [
      "Error running spykingcircus2\n"
     ]
    },
    {
     "ename": "SpikeSortingError",
     "evalue": "Spike sorting failed. You can inspect the runtime trace in spikeinterface_log.json",
     "output_type": "error",
     "traceback": [
      "\u001b[1;31m---------------------------------------------------------------------------\u001b[0m",
      "\u001b[1;31mSpikeSortingError\u001b[0m                         Traceback (most recent call last)",
      "Cell \u001b[1;32mIn [15], line 1\u001b[0m\n\u001b[1;32m----> 1\u001b[0m sorting_outputs \u001b[38;5;241m=\u001b[39m \u001b[43mss\u001b[49m\u001b[38;5;241;43m.\u001b[39;49m\u001b[43mrun_sorters\u001b[49m\u001b[43m(\u001b[49m\u001b[43msorter_list\u001b[49m\u001b[38;5;241;43m=\u001b[39;49m\u001b[43m[\u001b[49m\u001b[38;5;124;43m\"\u001b[39;49m\u001b[38;5;124;43mtridesclous\u001b[39;49m\u001b[38;5;124;43m\"\u001b[39;49m\u001b[43m,\u001b[49m\u001b[38;5;124;43m\"\u001b[39;49m\u001b[38;5;124;43mspykingcircus2\u001b[39;49m\u001b[38;5;124;43m\"\u001b[39;49m\u001b[43m]\u001b[49m\u001b[43m,\u001b[49m\n\u001b[0;32m      2\u001b[0m \u001b[43m                                 \u001b[49m\u001b[43mrecording_dict_or_list\u001b[49m\u001b[38;5;241;43m=\u001b[39;49m\u001b[43m{\u001b[49m\u001b[38;5;124;43m\"\u001b[39;49m\u001b[38;5;124;43mgroup0\u001b[39;49m\u001b[38;5;124;43m\"\u001b[39;49m\u001b[43m:\u001b[49m\u001b[43m \u001b[49m\u001b[43mrecording_loaded\u001b[49m\u001b[43m}\u001b[49m\u001b[43m,\u001b[49m\n\u001b[0;32m      3\u001b[0m \u001b[43m                                 \u001b[49m\u001b[43mworking_folder\u001b[49m\u001b[38;5;241;43m=\u001b[39;49m\u001b[38;5;124;43mrf\u001b[39;49m\u001b[38;5;124;43m\"\u001b[39;49m\u001b[38;5;132;43;01m{\u001b[39;49;00m\u001b[43mworking_dir\u001b[49m\u001b[38;5;132;43;01m}\u001b[39;49;00m\u001b[38;5;124;43m\\\u001b[39;49m\u001b[38;5;124;43mSorted\u001b[39;49m\u001b[38;5;124;43m\\\u001b[39;49m\u001b[38;5;124;43m04_5to7\u001b[39;49m\u001b[38;5;124;43m\"\u001b[39;49m\u001b[43m,\u001b[49m\n\u001b[0;32m      4\u001b[0m \u001b[43m                                 \u001b[49m\u001b[43mverbose\u001b[49m\u001b[38;5;241;43m=\u001b[39;49m\u001b[38;5;28;43;01mTrue\u001b[39;49;00m\u001b[43m,\u001b[49m\n\u001b[0;32m      5\u001b[0m \u001b[43m                                 \u001b[49m\u001b[43mengine\u001b[49m\u001b[38;5;241;43m=\u001b[39;49m\u001b[38;5;124;43m\"\u001b[39;49m\u001b[38;5;124;43mjoblib\u001b[39;49m\u001b[38;5;124;43m\"\u001b[39;49m\u001b[43m,\u001b[49m\n\u001b[0;32m      6\u001b[0m \u001b[43m                                 \u001b[49m\u001b[43mengine_kwargs\u001b[49m\u001b[38;5;241;43m=\u001b[39;49m\u001b[43m{\u001b[49m\u001b[38;5;124;43m'\u001b[39;49m\u001b[38;5;124;43mn_jobs\u001b[39;49m\u001b[38;5;124;43m'\u001b[39;49m\u001b[43m:\u001b[49m\u001b[43m \u001b[49m\u001b[38;5;241;43m1\u001b[39;49m\u001b[43m}\u001b[49m\u001b[43m)\u001b[49m\n",
      "File \u001b[1;32m~\\AppData\\Local\\Continuum\\anaconda3\\envs\\Spike\\envs\\si_env\\lib\\site-packages\\spikeinterface\\sorters\\launcher.py:276\u001b[0m, in \u001b[0;36mrun_sorters\u001b[1;34m(sorter_list, recording_dict_or_list, working_folder, sorter_params, mode_if_folder_exists, engine, engine_kwargs, verbose, with_output, docker_images, singularity_images)\u001b[0m\n\u001b[0;32m    274\u001b[0m     n_jobs \u001b[38;5;241m=\u001b[39m engine_kwargs\u001b[38;5;241m.\u001b[39mget(\u001b[38;5;124m'\u001b[39m\u001b[38;5;124mn_jobs\u001b[39m\u001b[38;5;124m'\u001b[39m, \u001b[38;5;241m-\u001b[39m\u001b[38;5;241m1\u001b[39m)\n\u001b[0;32m    275\u001b[0m     backend \u001b[38;5;241m=\u001b[39m engine_kwargs\u001b[38;5;241m.\u001b[39mget(\u001b[38;5;124m'\u001b[39m\u001b[38;5;124mbackend\u001b[39m\u001b[38;5;124m'\u001b[39m, \u001b[38;5;124m'\u001b[39m\u001b[38;5;124mloky\u001b[39m\u001b[38;5;124m'\u001b[39m)\n\u001b[1;32m--> 276\u001b[0m     \u001b[43mParallel\u001b[49m\u001b[43m(\u001b[49m\u001b[43mn_jobs\u001b[49m\u001b[38;5;241;43m=\u001b[39;49m\u001b[43mn_jobs\u001b[49m\u001b[43m,\u001b[49m\u001b[43m \u001b[49m\u001b[43mbackend\u001b[49m\u001b[38;5;241;43m=\u001b[39;49m\u001b[43mbackend\u001b[49m\u001b[43m)\u001b[49m\u001b[43m(\u001b[49m\n\u001b[0;32m    277\u001b[0m \u001b[43m        \u001b[49m\u001b[43mdelayed\u001b[49m\u001b[43m(\u001b[49m\u001b[43m_run_one\u001b[49m\u001b[43m)\u001b[49m\u001b[43m(\u001b[49m\u001b[43mtask_args\u001b[49m\u001b[43m)\u001b[49m\u001b[43m \u001b[49m\u001b[38;5;28;43;01mfor\u001b[39;49;00m\u001b[43m \u001b[49m\u001b[43mtask_args\u001b[49m\u001b[43m \u001b[49m\u001b[38;5;129;43;01min\u001b[39;49;00m\u001b[43m \u001b[49m\u001b[43mtask_args_list\u001b[49m\u001b[43m)\u001b[49m\n\u001b[0;32m    279\u001b[0m \u001b[38;5;28;01melif\u001b[39;00m engine \u001b[38;5;241m==\u001b[39m \u001b[38;5;124m'\u001b[39m\u001b[38;5;124mdask\u001b[39m\u001b[38;5;124m'\u001b[39m:\n\u001b[0;32m    280\u001b[0m     client \u001b[38;5;241m=\u001b[39m engine_kwargs\u001b[38;5;241m.\u001b[39mget(\u001b[38;5;124m'\u001b[39m\u001b[38;5;124mclient\u001b[39m\u001b[38;5;124m'\u001b[39m, \u001b[38;5;28;01mNone\u001b[39;00m)\n",
      "File \u001b[1;32m~\\AppData\\Local\\Continuum\\anaconda3\\envs\\Spike\\envs\\si_env\\lib\\site-packages\\joblib\\parallel.py:1051\u001b[0m, in \u001b[0;36mParallel.__call__\u001b[1;34m(self, iterable)\u001b[0m\n\u001b[0;32m   1048\u001b[0m \u001b[38;5;28;01mif\u001b[39;00m \u001b[38;5;28mself\u001b[39m\u001b[38;5;241m.\u001b[39mdispatch_one_batch(iterator):\n\u001b[0;32m   1049\u001b[0m     \u001b[38;5;28mself\u001b[39m\u001b[38;5;241m.\u001b[39m_iterating \u001b[38;5;241m=\u001b[39m \u001b[38;5;28mself\u001b[39m\u001b[38;5;241m.\u001b[39m_original_iterator \u001b[38;5;129;01mis\u001b[39;00m \u001b[38;5;129;01mnot\u001b[39;00m \u001b[38;5;28;01mNone\u001b[39;00m\n\u001b[1;32m-> 1051\u001b[0m \u001b[38;5;28;01mwhile\u001b[39;00m \u001b[38;5;28;43mself\u001b[39;49m\u001b[38;5;241;43m.\u001b[39;49m\u001b[43mdispatch_one_batch\u001b[49m\u001b[43m(\u001b[49m\u001b[43miterator\u001b[49m\u001b[43m)\u001b[49m:\n\u001b[0;32m   1052\u001b[0m     \u001b[38;5;28;01mpass\u001b[39;00m\n\u001b[0;32m   1054\u001b[0m \u001b[38;5;28;01mif\u001b[39;00m pre_dispatch \u001b[38;5;241m==\u001b[39m \u001b[38;5;124m\"\u001b[39m\u001b[38;5;124mall\u001b[39m\u001b[38;5;124m\"\u001b[39m \u001b[38;5;129;01mor\u001b[39;00m n_jobs \u001b[38;5;241m==\u001b[39m \u001b[38;5;241m1\u001b[39m:\n\u001b[0;32m   1055\u001b[0m     \u001b[38;5;66;03m# The iterable was consumed all at once by the above for loop.\u001b[39;00m\n\u001b[0;32m   1056\u001b[0m     \u001b[38;5;66;03m# No need to wait for async callbacks to trigger to\u001b[39;00m\n\u001b[0;32m   1057\u001b[0m     \u001b[38;5;66;03m# consumption.\u001b[39;00m\n",
      "File \u001b[1;32m~\\AppData\\Local\\Continuum\\anaconda3\\envs\\Spike\\envs\\si_env\\lib\\site-packages\\joblib\\parallel.py:864\u001b[0m, in \u001b[0;36mParallel.dispatch_one_batch\u001b[1;34m(self, iterator)\u001b[0m\n\u001b[0;32m    862\u001b[0m     \u001b[38;5;28;01mreturn\u001b[39;00m \u001b[38;5;28;01mFalse\u001b[39;00m\n\u001b[0;32m    863\u001b[0m \u001b[38;5;28;01melse\u001b[39;00m:\n\u001b[1;32m--> 864\u001b[0m     \u001b[38;5;28;43mself\u001b[39;49m\u001b[38;5;241;43m.\u001b[39;49m\u001b[43m_dispatch\u001b[49m\u001b[43m(\u001b[49m\u001b[43mtasks\u001b[49m\u001b[43m)\u001b[49m\n\u001b[0;32m    865\u001b[0m     \u001b[38;5;28;01mreturn\u001b[39;00m \u001b[38;5;28;01mTrue\u001b[39;00m\n",
      "File \u001b[1;32m~\\AppData\\Local\\Continuum\\anaconda3\\envs\\Spike\\envs\\si_env\\lib\\site-packages\\joblib\\parallel.py:782\u001b[0m, in \u001b[0;36mParallel._dispatch\u001b[1;34m(self, batch)\u001b[0m\n\u001b[0;32m    780\u001b[0m \u001b[38;5;28;01mwith\u001b[39;00m \u001b[38;5;28mself\u001b[39m\u001b[38;5;241m.\u001b[39m_lock:\n\u001b[0;32m    781\u001b[0m     job_idx \u001b[38;5;241m=\u001b[39m \u001b[38;5;28mlen\u001b[39m(\u001b[38;5;28mself\u001b[39m\u001b[38;5;241m.\u001b[39m_jobs)\n\u001b[1;32m--> 782\u001b[0m     job \u001b[38;5;241m=\u001b[39m \u001b[38;5;28;43mself\u001b[39;49m\u001b[38;5;241;43m.\u001b[39;49m\u001b[43m_backend\u001b[49m\u001b[38;5;241;43m.\u001b[39;49m\u001b[43mapply_async\u001b[49m\u001b[43m(\u001b[49m\u001b[43mbatch\u001b[49m\u001b[43m,\u001b[49m\u001b[43m \u001b[49m\u001b[43mcallback\u001b[49m\u001b[38;5;241;43m=\u001b[39;49m\u001b[43mcb\u001b[49m\u001b[43m)\u001b[49m\n\u001b[0;32m    783\u001b[0m     \u001b[38;5;66;03m# A job can complete so quickly than its callback is\u001b[39;00m\n\u001b[0;32m    784\u001b[0m     \u001b[38;5;66;03m# called before we get here, causing self._jobs to\u001b[39;00m\n\u001b[0;32m    785\u001b[0m     \u001b[38;5;66;03m# grow. To ensure correct results ordering, .insert is\u001b[39;00m\n\u001b[0;32m    786\u001b[0m     \u001b[38;5;66;03m# used (rather than .append) in the following line\u001b[39;00m\n\u001b[0;32m    787\u001b[0m     \u001b[38;5;28mself\u001b[39m\u001b[38;5;241m.\u001b[39m_jobs\u001b[38;5;241m.\u001b[39minsert(job_idx, job)\n",
      "File \u001b[1;32m~\\AppData\\Local\\Continuum\\anaconda3\\envs\\Spike\\envs\\si_env\\lib\\site-packages\\joblib\\_parallel_backends.py:208\u001b[0m, in \u001b[0;36mSequentialBackend.apply_async\u001b[1;34m(self, func, callback)\u001b[0m\n\u001b[0;32m    206\u001b[0m \u001b[38;5;28;01mdef\u001b[39;00m \u001b[38;5;21mapply_async\u001b[39m(\u001b[38;5;28mself\u001b[39m, func, callback\u001b[38;5;241m=\u001b[39m\u001b[38;5;28;01mNone\u001b[39;00m):\n\u001b[0;32m    207\u001b[0m     \u001b[38;5;124;03m\"\"\"Schedule a func to be run\"\"\"\u001b[39;00m\n\u001b[1;32m--> 208\u001b[0m     result \u001b[38;5;241m=\u001b[39m \u001b[43mImmediateResult\u001b[49m\u001b[43m(\u001b[49m\u001b[43mfunc\u001b[49m\u001b[43m)\u001b[49m\n\u001b[0;32m    209\u001b[0m     \u001b[38;5;28;01mif\u001b[39;00m callback:\n\u001b[0;32m    210\u001b[0m         callback(result)\n",
      "File \u001b[1;32m~\\AppData\\Local\\Continuum\\anaconda3\\envs\\Spike\\envs\\si_env\\lib\\site-packages\\joblib\\_parallel_backends.py:572\u001b[0m, in \u001b[0;36mImmediateResult.__init__\u001b[1;34m(self, batch)\u001b[0m\n\u001b[0;32m    569\u001b[0m \u001b[38;5;28;01mdef\u001b[39;00m \u001b[38;5;21m__init__\u001b[39m(\u001b[38;5;28mself\u001b[39m, batch):\n\u001b[0;32m    570\u001b[0m     \u001b[38;5;66;03m# Don't delay the application, to avoid keeping the input\u001b[39;00m\n\u001b[0;32m    571\u001b[0m     \u001b[38;5;66;03m# arguments in memory\u001b[39;00m\n\u001b[1;32m--> 572\u001b[0m     \u001b[38;5;28mself\u001b[39m\u001b[38;5;241m.\u001b[39mresults \u001b[38;5;241m=\u001b[39m \u001b[43mbatch\u001b[49m\u001b[43m(\u001b[49m\u001b[43m)\u001b[49m\n",
      "File \u001b[1;32m~\\AppData\\Local\\Continuum\\anaconda3\\envs\\Spike\\envs\\si_env\\lib\\site-packages\\joblib\\parallel.py:263\u001b[0m, in \u001b[0;36mBatchedCalls.__call__\u001b[1;34m(self)\u001b[0m\n\u001b[0;32m    259\u001b[0m \u001b[38;5;28;01mdef\u001b[39;00m \u001b[38;5;21m__call__\u001b[39m(\u001b[38;5;28mself\u001b[39m):\n\u001b[0;32m    260\u001b[0m     \u001b[38;5;66;03m# Set the default nested backend to self._backend but do not set the\u001b[39;00m\n\u001b[0;32m    261\u001b[0m     \u001b[38;5;66;03m# change the default number of processes to -1\u001b[39;00m\n\u001b[0;32m    262\u001b[0m     \u001b[38;5;28;01mwith\u001b[39;00m parallel_backend(\u001b[38;5;28mself\u001b[39m\u001b[38;5;241m.\u001b[39m_backend, n_jobs\u001b[38;5;241m=\u001b[39m\u001b[38;5;28mself\u001b[39m\u001b[38;5;241m.\u001b[39m_n_jobs):\n\u001b[1;32m--> 263\u001b[0m         \u001b[38;5;28;01mreturn\u001b[39;00m [func(\u001b[38;5;241m*\u001b[39margs, \u001b[38;5;241m*\u001b[39m\u001b[38;5;241m*\u001b[39mkwargs)\n\u001b[0;32m    264\u001b[0m                 \u001b[38;5;28;01mfor\u001b[39;00m func, args, kwargs \u001b[38;5;129;01min\u001b[39;00m \u001b[38;5;28mself\u001b[39m\u001b[38;5;241m.\u001b[39mitems]\n",
      "File \u001b[1;32m~\\AppData\\Local\\Continuum\\anaconda3\\envs\\Spike\\envs\\si_env\\lib\\site-packages\\joblib\\parallel.py:263\u001b[0m, in \u001b[0;36m<listcomp>\u001b[1;34m(.0)\u001b[0m\n\u001b[0;32m    259\u001b[0m \u001b[38;5;28;01mdef\u001b[39;00m \u001b[38;5;21m__call__\u001b[39m(\u001b[38;5;28mself\u001b[39m):\n\u001b[0;32m    260\u001b[0m     \u001b[38;5;66;03m# Set the default nested backend to self._backend but do not set the\u001b[39;00m\n\u001b[0;32m    261\u001b[0m     \u001b[38;5;66;03m# change the default number of processes to -1\u001b[39;00m\n\u001b[0;32m    262\u001b[0m     \u001b[38;5;28;01mwith\u001b[39;00m parallel_backend(\u001b[38;5;28mself\u001b[39m\u001b[38;5;241m.\u001b[39m_backend, n_jobs\u001b[38;5;241m=\u001b[39m\u001b[38;5;28mself\u001b[39m\u001b[38;5;241m.\u001b[39m_n_jobs):\n\u001b[1;32m--> 263\u001b[0m         \u001b[38;5;28;01mreturn\u001b[39;00m [func(\u001b[38;5;241m*\u001b[39margs, \u001b[38;5;241m*\u001b[39m\u001b[38;5;241m*\u001b[39mkwargs)\n\u001b[0;32m    264\u001b[0m                 \u001b[38;5;28;01mfor\u001b[39;00m func, args, kwargs \u001b[38;5;129;01min\u001b[39;00m \u001b[38;5;28mself\u001b[39m\u001b[38;5;241m.\u001b[39mitems]\n",
      "File \u001b[1;32m~\\AppData\\Local\\Continuum\\anaconda3\\envs\\Spike\\envs\\si_env\\lib\\site-packages\\spikeinterface\\sorters\\launcher.py:38\u001b[0m, in \u001b[0;36m_run_one\u001b[1;34m(arg_list)\u001b[0m\n\u001b[0;32m     35\u001b[0m \u001b[38;5;66;03m# because we won't want the loop/worker to break\u001b[39;00m\n\u001b[0;32m     36\u001b[0m raise_error \u001b[38;5;241m=\u001b[39m \u001b[38;5;28;01mFalse\u001b[39;00m\n\u001b[1;32m---> 38\u001b[0m run_sorter(sorter_name, recording, output_folder\u001b[38;5;241m=\u001b[39moutput_folder,\n\u001b[0;32m     39\u001b[0m            remove_existing_folder\u001b[38;5;241m=\u001b[39mremove_existing_folder,\n\u001b[0;32m     40\u001b[0m            delete_output_folder\u001b[38;5;241m=\u001b[39mdelete_output_folder,\n\u001b[0;32m     41\u001b[0m            verbose\u001b[38;5;241m=\u001b[39mverbose, raise_error\u001b[38;5;241m=\u001b[39mraise_error,\n\u001b[0;32m     42\u001b[0m            docker_image\u001b[38;5;241m=\u001b[39mdocker_image, singularity_image\u001b[38;5;241m=\u001b[39msingularity_image,\n\u001b[0;32m     43\u001b[0m            with_output\u001b[38;5;241m=\u001b[39mwith_output, \u001b[38;5;241m*\u001b[39m\u001b[38;5;241m*\u001b[39msorter_params)\n",
      "File \u001b[1;32m~\\AppData\\Local\\Continuum\\anaconda3\\envs\\Spike\\envs\\si_env\\lib\\site-packages\\spikeinterface\\sorters\\runsorter.py:143\u001b[0m, in \u001b[0;36mrun_sorter\u001b[1;34m(sorter_name, recording, output_folder, remove_existing_folder, delete_output_folder, verbose, raise_error, docker_image, singularity_image, with_output, **sorter_params)\u001b[0m\n\u001b[0;32m    136\u001b[0m             container_image \u001b[38;5;241m=\u001b[39m singularity_image\n\u001b[0;32m    137\u001b[0m     \u001b[38;5;28;01mreturn\u001b[39;00m run_sorter_container(\n\u001b[0;32m    138\u001b[0m         container_image\u001b[38;5;241m=\u001b[39mcontainer_image,\n\u001b[0;32m    139\u001b[0m         mode\u001b[38;5;241m=\u001b[39mmode,\n\u001b[0;32m    140\u001b[0m         \u001b[38;5;241m*\u001b[39m\u001b[38;5;241m*\u001b[39mcommon_kwargs,\n\u001b[0;32m    141\u001b[0m     )\n\u001b[1;32m--> 143\u001b[0m \u001b[38;5;28;01mreturn\u001b[39;00m run_sorter_local(\u001b[38;5;241m*\u001b[39m\u001b[38;5;241m*\u001b[39mcommon_kwargs)\n",
      "File \u001b[1;32m~\\AppData\\Local\\Continuum\\anaconda3\\envs\\Spike\\envs\\si_env\\lib\\site-packages\\spikeinterface\\sorters\\runsorter.py:165\u001b[0m, in \u001b[0;36mrun_sorter_local\u001b[1;34m(sorter_name, recording, output_folder, remove_existing_folder, delete_output_folder, verbose, raise_error, with_output, **sorter_params)\u001b[0m\n\u001b[0;32m    163\u001b[0m SorterClass\u001b[38;5;241m.\u001b[39mrun_from_folder(output_folder, raise_error, verbose)\n\u001b[0;32m    164\u001b[0m \u001b[38;5;28;01mif\u001b[39;00m with_output:\n\u001b[1;32m--> 165\u001b[0m     sorting \u001b[38;5;241m=\u001b[39m \u001b[43mSorterClass\u001b[49m\u001b[38;5;241;43m.\u001b[39;49m\u001b[43mget_result_from_folder\u001b[49m\u001b[43m(\u001b[49m\u001b[43moutput_folder\u001b[49m\u001b[43m)\u001b[49m\n\u001b[0;32m    166\u001b[0m \u001b[38;5;28;01melse\u001b[39;00m:\n\u001b[0;32m    167\u001b[0m     sorting \u001b[38;5;241m=\u001b[39m \u001b[38;5;28;01mNone\u001b[39;00m\n",
      "File \u001b[1;32m~\\AppData\\Local\\Continuum\\anaconda3\\envs\\Spike\\envs\\si_env\\lib\\site-packages\\spikeinterface\\sorters\\basesorter.py:278\u001b[0m, in \u001b[0;36mBaseSorter.get_result_from_folder\u001b[1;34m(cls, output_folder)\u001b[0m\n\u001b[0;32m    275\u001b[0m     log \u001b[38;5;241m=\u001b[39m json\u001b[38;5;241m.\u001b[39mload(f)\n\u001b[0;32m    277\u001b[0m \u001b[38;5;28;01mif\u001b[39;00m \u001b[38;5;28mbool\u001b[39m(log[\u001b[38;5;124m'\u001b[39m\u001b[38;5;124merror\u001b[39m\u001b[38;5;124m'\u001b[39m]):\n\u001b[1;32m--> 278\u001b[0m     \u001b[38;5;28;01mraise\u001b[39;00m SpikeSortingError(\n\u001b[0;32m    279\u001b[0m         \u001b[38;5;124m\"\u001b[39m\u001b[38;5;124mSpike sorting failed. You can inspect the runtime trace in spikeinterface_log.json\u001b[39m\u001b[38;5;124m\"\u001b[39m)\n\u001b[0;32m    281\u001b[0m sorting \u001b[38;5;241m=\u001b[39m \u001b[38;5;28mcls\u001b[39m\u001b[38;5;241m.\u001b[39m_get_result_from_folder(output_folder)\n\u001b[0;32m    283\u001b[0m recording \u001b[38;5;241m=\u001b[39m load_extractor(output_folder \u001b[38;5;241m/\u001b[39m \u001b[38;5;124m'\u001b[39m\u001b[38;5;124mspikeinterface_recording.json\u001b[39m\u001b[38;5;124m'\u001b[39m)\n",
      "\u001b[1;31mSpikeSortingError\u001b[0m: Spike sorting failed. You can inspect the runtime trace in spikeinterface_log.json"
     ]
    }
   ],
   "source": [
    "sorting_outputs = ss.run_sorters(sorter_list=[\"tridesclous\",\"spykingcircus2\"],\n",
    "                                 recording_dict_or_list={\"group0\": recording_loaded},\n",
    "                                 working_folder=rf\"{working_dir}\\Sorted\\04_5to7\",\n",
    "                                 verbose=True,\n",
    "                                 engine=\"joblib\",\n",
    "                                 engine_kwargs={'n_jobs': 1})"
   ]
  },
  {
   "cell_type": "code",
   "execution_count": null,
   "id": "5973b753",
   "metadata": {},
   "outputs": [],
   "source": []
  },
  {
   "cell_type": "code",
   "execution_count": null,
   "id": "4ba3baa5",
   "metadata": {},
   "outputs": [],
   "source": []
  }
 ],
 "metadata": {
  "kernelspec": {
   "display_name": "Python 3 (ipykernel)",
   "language": "python",
   "name": "python3"
  },
  "language_info": {
   "codemirror_mode": {
    "name": "ipython",
    "version": 3
   },
   "file_extension": ".py",
   "mimetype": "text/x-python",
   "name": "python",
   "nbconvert_exporter": "python",
   "pygments_lexer": "ipython3",
   "version": "3.9.13"
  }
 },
 "nbformat": 4,
 "nbformat_minor": 5
}
